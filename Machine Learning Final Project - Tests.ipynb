{
 "cells": [
  {
   "cell_type": "code",
   "execution_count": 1,
   "id": "12b8817b",
   "metadata": {},
   "outputs": [],
   "source": [
    "import pandas as pd\n",
    "import numpy as np\n",
    "import sklearn\n",
    "from sklearn.model_selection import train_test_split"
   ]
  },
  {
   "cell_type": "code",
   "execution_count": 8,
   "id": "478daf72",
   "metadata": {},
   "outputs": [],
   "source": [
    "df = pd.read_csv(\"/Users/winnieshen/Desktop/RStudio Projects/Flights/training_data.csv\")"
   ]
  },
  {
   "cell_type": "code",
   "execution_count": 19,
   "id": "a8bdacd4",
   "metadata": {},
   "outputs": [
    {
     "name": "stdout",
     "output_type": "stream",
     "text": [
      "           cd  county     tract10  res_units  other_units  year_built  \\\n",
      "4232    201.0       5   5003900.0         20            0      1903.0   \n",
      "93585   203.0       5   5018500.0         15            0      1910.0   \n",
      "157588  111.0      61  61019600.0         50            0      2009.0   \n",
      "51986   203.0       5   5016700.0         46            0      2005.0   \n",
      "81715   308.0      47  47021700.0          6            0      1905.0   \n",
      "\n",
      "        year_reno  buildings  floors  basement_code  ...  building_class_W3  \\\n",
      "4232       1995.0          1     5.0              2  ...                  0   \n",
      "93585      2004.0          1     5.0              0  ...                  0   \n",
      "157588     2009.0          1     6.0              0  ...                  0   \n",
      "51986      2005.0          1     6.0              2  ...                  0   \n",
      "81715      2009.0          1     3.0              5  ...                  0   \n",
      "\n",
      "        building_class_W4  building_class_W6  building_class_W7  \\\n",
      "4232                    0                  0                  0   \n",
      "93585                   0                  0                  0   \n",
      "157588                  0                  0                  0   \n",
      "51986                   0                  0                  0   \n",
      "81715                   0                  0                  0   \n",
      "\n",
      "        building_class_W8  building_class_W9  building_class_Y4  \\\n",
      "4232                    0                  0                  0   \n",
      "93585                   0                  0                  0   \n",
      "157588                  0                  0                  0   \n",
      "51986                   0                  0                  0   \n",
      "81715                   0                  0                  0   \n",
      "\n",
      "        building_class_Z4  owner_type_P  owner_type_X  \n",
      "4232                    0             0             1  \n",
      "93585                   0             0             1  \n",
      "157588                  0             0             1  \n",
      "51986                   0             0             1  \n",
      "81715                   0             0             1  \n",
      "\n",
      "[5 rows x 82 columns]\n"
     ]
    }
   ],
   "source": [
    "df = df.dropna()\n",
    "\n",
    "y=df.loc[:,\"outcome\"]\n",
    "\n",
    "X=df.loc[:,\"cd\":\"viol_bbl_ser_2020\"]\n",
    "X=pd.get_dummies(X)\n",
    "\n",
    "# Split data into 70% train, 30% test\n",
    "X_train,X_test,y_train,y_test=train_test_split(X, y, test_size=0.3, random_state=999)\n",
    "print(X_train.head())"
   ]
  },
  {
   "cell_type": "code",
   "execution_count": 20,
   "id": "32550a3f",
   "metadata": {},
   "outputs": [
    {
     "name": "stdout",
     "output_type": "stream",
     "text": [
      "In sample accuracy: 1.0\n",
      "Out of sample accuracy: 0.7776096822995462\n"
     ]
    }
   ],
   "source": [
    "from sklearn.tree import DecisionTreeClassifier\n",
    "\n",
    "dt=DecisionTreeClassifier()\n",
    "dt.fit(X_train,y_train)\n",
    "\n",
    "print('In sample accuracy:',dt.score(X_train,y_train))\n",
    "\n",
    "print('Out of sample accuracy:',dt.score(X_test,y_test))"
   ]
  },
  {
   "cell_type": "code",
   "execution_count": 21,
   "id": "428787f2",
   "metadata": {},
   "outputs": [
    {
     "name": "stdout",
     "output_type": "stream",
     "text": [
      "0.9012743893357164\n",
      "0.8139183055975794\n"
     ]
    }
   ],
   "source": [
    "from sklearn.ensemble import RandomForestClassifier\n",
    "from sklearn.metrics import roc_auc_score\n",
    "\n",
    "rf = RandomForestClassifier(n_estimators=30, n_jobs=-1,max_leaf_nodes=10)\n",
    "rf.fit(X_train, y_train)\n",
    "pred=rf.predict_proba(X_test)[:,1]\n",
    "print(roc_auc_score(y_test,pred))\n",
    "print(rf.score(X_test,y_test))"
   ]
  }
 ],
 "metadata": {
  "kernelspec": {
   "display_name": "Python 3 (ipykernel)",
   "language": "python",
   "name": "python3"
  },
  "language_info": {
   "codemirror_mode": {
    "name": "ipython",
    "version": 3
   },
   "file_extension": ".py",
   "mimetype": "text/x-python",
   "name": "python",
   "nbconvert_exporter": "python",
   "pygments_lexer": "ipython3",
   "version": "3.9.12"
  }
 },
 "nbformat": 4,
 "nbformat_minor": 5
}
