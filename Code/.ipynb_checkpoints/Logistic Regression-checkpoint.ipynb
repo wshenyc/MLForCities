{
 "cells": [
  {
   "cell_type": "code",
   "execution_count": 1,
   "id": "b78a7094",
   "metadata": {},
   "outputs": [],
   "source": [
    "#import all the libraries\n",
    "import numpy as np\n",
    "import pandas as pd\n",
    "import matplotlib.pyplot as plt\n",
    "import geopandas as gpd\n",
    "from sklearn.linear_model import LogisticRegression\n",
    "from sklearn import svm\n",
    "from sklearn.metrics import confusion_matrix\n",
    "from sklearn.model_selection import train_test_split\n",
    "from sklearn import datasets\n",
    "from sklearn.decomposition import PCA\n",
    "from sklearn import metrics\n",
    "from sklearn import preprocessing\n",
    "import urllib\n",
    "\n",
    "# To ignore some warnings\n",
    "import warnings\n",
    "warnings.simplefilter(action='ignore', category=FutureWarning)\n",
    "warnings.simplefilter(action='ignore', category=UserWarning)"
   ]
  },
  {
   "cell_type": "code",
   "execution_count": 2,
   "id": "743dc41c",
   "metadata": {},
   "outputs": [],
   "source": [
    "#loading in building-level file\n",
    "\n",
    "url = 'https://raw.githubusercontent.com/wshenyc/MLForCities/main/Data/building_data_final.csv'\n",
    "df = pd.read_csv(url)"
   ]
  },
  {
   "cell_type": "code",
   "execution_count": 3,
   "id": "e7c8c135",
   "metadata": {},
   "outputs": [
    {
     "data": {
      "text/plain": [
       "(158185, 115)"
      ]
     },
     "execution_count": 3,
     "metadata": {},
     "output_type": "execute_result"
    }
   ],
   "source": [
    "#158,185 rows corresponding to a unique building based on Borough, Block, Lot (BBL)\n",
    "#116 columns \n",
    "df.shape"
   ]
  },
  {
   "cell_type": "code",
   "execution_count": 26,
   "id": "3771e412",
   "metadata": {},
   "outputs": [
    {
     "name": "stdout",
     "output_type": "stream",
     "text": [
      "Accuracy=0.874141037392926\n"
     ]
    }
   ],
   "source": [
    "X = df.loc[:, \"bbl\":\"building_class_Z9\"]\n",
    "Y = df.loc[:, 'outcome']\n",
    "logreg = LogisticRegression()\n",
    "logreg.fit(X, Y)\n",
    "Z = logreg.predict(X)\n",
    "correct=1.0*(Z==Y).sum()/len(Y)\n",
    "print('Accuracy={}'.format(correct))"
   ]
  },
  {
   "cell_type": "code",
   "execution_count": 27,
   "id": "15e48d08",
   "metadata": {},
   "outputs": [
    {
     "name": "stdout",
     "output_type": "stream",
     "text": [
      "LOGISTIC REGRESSION \n",
      "Errors=19909\n",
      "Confusion Matrix:\n",
      "                  Predicted Negative  Predicted Positive\n",
      "Actual Negative              138276               19909\n",
      "Actual Positive                   0                   0\n"
     ]
    }
   ],
   "source": [
    "def print_confusion_matrix(predictions, labels):\n",
    "    # Function for printing Confusion matrix, based on labels and predictions\n",
    "    ls = list(confusion_matrix(predictions, labels)) ## returns tn, fp, fn, tp\n",
    "    ls = pd.DataFrame(ls, columns = ['Predicted Negative', 'Predicted Positive'], index=['Actual Negative', 'Actual Positive'])\n",
    "    print (\"Confusion Matrix:\\n\", ls)\n",
    "print('LOGISTIC REGRESSION \\nErrors={0}'.format(sum(Z!=Y)))\n",
    "print_confusion_matrix(Z, Y)"
   ]
  },
  {
   "cell_type": "code",
   "execution_count": 36,
   "id": "4412a8c4",
   "metadata": {},
   "outputs": [
    {
     "data": {
      "text/plain": [
       "array([[0.89454397, 0.10545603],\n",
       "       [0.89454397, 0.10545603],\n",
       "       [0.89454397, 0.10545603],\n",
       "       ...,\n",
       "       [0.89710994, 0.10289006],\n",
       "       [0.80572544, 0.19427456],\n",
       "       [0.94329049, 0.05670951]])"
      ]
     },
     "execution_count": 36,
     "metadata": {},
     "output_type": "execute_result"
    }
   ],
   "source": [
    "logreg.predict_proba(X)"
   ]
  },
  {
   "cell_type": "code",
   "execution_count": 24,
   "id": "60f6ede4",
   "metadata": {},
   "outputs": [],
   "source": [
    "X = df.loc[:, \"bbl\":\"building_class_Z9\"]\n",
    "y = df.loc[:, 'outcome']\n",
    "X_train, X_test, y_train, y_test = train_test_split(X, y, test_size=0.3, random_state=999)"
   ]
  },
  {
   "cell_type": "code",
   "execution_count": 25,
   "id": "11ffce66",
   "metadata": {},
   "outputs": [
    {
     "name": "stdout",
     "output_type": "stream",
     "text": [
      "Accuracy=0.8743467633175994\n"
     ]
    }
   ],
   "source": [
    "logreg = LogisticRegression()\n",
    "Y = y_train\n",
    "X = X_train\n",
    "logreg.fit(X, Y)\n",
    "pred = logreg.predict(X_test)\n",
    "correct=1.0*(pred == y_test).sum()/len(y_test)\n",
    "print('Accuracy={}'.format(correct))"
   ]
  }
 ],
 "metadata": {
  "kernelspec": {
   "display_name": "Python 3 (ipykernel)",
   "language": "python",
   "name": "python3"
  },
  "language_info": {
   "codemirror_mode": {
    "name": "ipython",
    "version": 3
   },
   "file_extension": ".py",
   "mimetype": "text/x-python",
   "name": "python",
   "nbconvert_exporter": "python",
   "pygments_lexer": "ipython3",
   "version": "3.10.6"
  }
 },
 "nbformat": 4,
 "nbformat_minor": 5
}
