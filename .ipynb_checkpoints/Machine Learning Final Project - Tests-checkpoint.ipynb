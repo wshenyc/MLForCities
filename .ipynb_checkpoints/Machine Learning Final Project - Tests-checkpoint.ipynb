{
 "cells": [
  {
   "cell_type": "code",
   "execution_count": 2,
   "id": "d929335d",
   "metadata": {},
   "outputs": [],
   "source": [
    "import pandas as pd\n",
    "import numpy as np\n",
    "import sklearn\n",
    "from sklearn.model_selection import train_test_split"
   ]
  },
  {
   "cell_type": "code",
   "execution_count": 3,
   "id": "43d13aa7",
   "metadata": {},
   "outputs": [],
   "source": [
    "df = pd.read_csv(\"/Users/winnieshen/Documents/GitHub/MLForCities/Data/housing_data.csv\")\n",
    "df = df.set_index('bbl')"
   ]
  },
  {
   "cell_type": "code",
   "execution_count": 4,
   "id": "a3030eb7",
   "metadata": {},
   "outputs": [
    {
     "name": "stdout",
     "output_type": "stream",
     "text": [
      "               cd  county     tract10  res_units  other_units  year_built  \\\n",
      "bbl                                                                         \n",
      "1005257502  102.0      61  61006500.0         11            3      1910.0   \n",
      "3042520015  305.0      47  47120000.0          3            0      1910.0   \n",
      "1010610012  104.0      61  61013300.0          5            0      1920.0   \n",
      "2023760031  201.0       5   5006700.0          5            0      1927.0   \n",
      "4100120020  412.0      81  81020600.0          3            1      1925.0   \n",
      "\n",
      "            year_reno  buildings  floors  basement_code  ...  \\\n",
      "bbl                                                      ...   \n",
      "1005257502     1910.0          2     4.0              5  ...   \n",
      "3042520015     1910.0          1     2.0              2  ...   \n",
      "1010610012     1982.0          1     3.0              5  ...   \n",
      "2023760031     1927.0          1     2.0              5  ...   \n",
      "4100120020     1925.0          1     2.5              5  ...   \n",
      "\n",
      "            building_class_W4  building_class_W6  building_class_W7  \\\n",
      "bbl                                                                   \n",
      "1005257502                  0                  0                  0   \n",
      "3042520015                  0                  0                  0   \n",
      "1010610012                  0                  0                  0   \n",
      "2023760031                  0                  0                  0   \n",
      "4100120020                  0                  0                  0   \n",
      "\n",
      "            building_class_W8  building_class_W9  building_class_Y4  \\\n",
      "bbl                                                                   \n",
      "1005257502                  0                  0                  0   \n",
      "3042520015                  0                  0                  0   \n",
      "1010610012                  0                  0                  0   \n",
      "2023760031                  0                  0                  0   \n",
      "4100120020                  0                  0                  0   \n",
      "\n",
      "            building_class_Z4  building_class_Z9  owner_type_P  owner_type_X  \n",
      "bbl                                                                           \n",
      "1005257502                  0                  0             0             0  \n",
      "3042520015                  0                  0             0             0  \n",
      "1010610012                  0                  0             0             0  \n",
      "2023760031                  0                  0             0             0  \n",
      "4100120020                  0                  0             0             0  \n",
      "\n",
      "[5 rows x 121 columns]\n"
     ]
    }
   ],
   "source": [
    "y=df.loc[:,\"outcome\"]\n",
    "\n",
    "X=df.loc[:,\"cd\":\"viol_bbl_ser_2020\"]\n",
    "X=pd.get_dummies(X)\n",
    "X = X.fillna(0)\n",
    "\n",
    "# Split data into 70% train, 30% test\n",
    "X_train,X_test,y_train,y_test=train_test_split(X, y, test_size=0.3, random_state=999)\n",
    "print(X_train.head())"
   ]
  },
  {
   "cell_type": "code",
   "execution_count": 84,
   "id": "0eac8283",
   "metadata": {},
   "outputs": [
    {
     "name": "stdout",
     "output_type": "stream",
     "text": [
      "In sample accuracy: 0.999954844710961\n",
      "Out of sample accuracy: 0.9364253202966959\n"
     ]
    }
   ],
   "source": [
    "from sklearn.tree import DecisionTreeClassifier\n",
    "\n",
    "dt=DecisionTreeClassifier()\n",
    "dt.fit(X_train,y_train)\n",
    "\n",
    "print('In sample accuracy:',dt.score(X_train,y_train))\n",
    "\n",
    "print('Out of sample accuracy:',dt.score(X_test,y_test))"
   ]
  },
  {
   "cell_type": "code",
   "execution_count": 69,
   "id": "1bcabf0c",
   "metadata": {},
   "outputs": [
    {
     "name": "stdout",
     "output_type": "stream",
     "text": [
      "0.9710753669996866\n",
      "0.9336227242076871\n"
     ]
    }
   ],
   "source": [
    "from sklearn.ensemble import RandomForestClassifier\n",
    "from sklearn.metrics import roc_auc_score\n",
    "\n",
    "rf = RandomForestClassifier(n_estimators=30, n_jobs=-1,max_leaf_nodes=10)\n",
    "rf.fit(X_train, y_train)\n",
    "pred=rf.predict_proba(X_test)[:,1]\n",
    "print(roc_auc_score(y_test,pred))\n",
    "print(rf.score(X_test,y_test))"
   ]
  },
  {
   "cell_type": "code",
   "execution_count": 100,
   "id": "a2f515c5",
   "metadata": {},
   "outputs": [
    {
     "data": {
      "text/html": [
       "<div>\n",
       "<style scoped>\n",
       "    .dataframe tbody tr th:only-of-type {\n",
       "        vertical-align: middle;\n",
       "    }\n",
       "\n",
       "    .dataframe tbody tr th {\n",
       "        vertical-align: top;\n",
       "    }\n",
       "\n",
       "    .dataframe thead th {\n",
       "        text-align: right;\n",
       "    }\n",
       "</style>\n",
       "<table border=\"1\" class=\"dataframe\">\n",
       "  <thead>\n",
       "    <tr style=\"text-align: right;\">\n",
       "      <th></th>\n",
       "      <th>outcome_x</th>\n",
       "      <th>cd</th>\n",
       "      <th>county</th>\n",
       "      <th>tract10</th>\n",
       "      <th>res_units</th>\n",
       "      <th>other_units</th>\n",
       "      <th>year_built</th>\n",
       "      <th>year_reno</th>\n",
       "      <th>buildings</th>\n",
       "      <th>floors</th>\n",
       "      <th>...</th>\n",
       "      <th>viol_bbl_oth_2018</th>\n",
       "      <th>viol_bbl_oth_2019</th>\n",
       "      <th>viol_bbl_oth_2020</th>\n",
       "      <th>viol_bbl_oth_2021</th>\n",
       "      <th>viol_bbl_ser_2017</th>\n",
       "      <th>viol_bbl_ser_2018</th>\n",
       "      <th>viol_bbl_ser_2019</th>\n",
       "      <th>viol_bbl_ser_2020</th>\n",
       "      <th>viol_bbl_ser_2021</th>\n",
       "      <th>outcome_y</th>\n",
       "    </tr>\n",
       "    <tr>\n",
       "      <th>bbl</th>\n",
       "      <th></th>\n",
       "      <th></th>\n",
       "      <th></th>\n",
       "      <th></th>\n",
       "      <th></th>\n",
       "      <th></th>\n",
       "      <th></th>\n",
       "      <th></th>\n",
       "      <th></th>\n",
       "      <th></th>\n",
       "      <th></th>\n",
       "      <th></th>\n",
       "      <th></th>\n",
       "      <th></th>\n",
       "      <th></th>\n",
       "      <th></th>\n",
       "      <th></th>\n",
       "      <th></th>\n",
       "      <th></th>\n",
       "      <th></th>\n",
       "      <th></th>\n",
       "    </tr>\n",
       "  </thead>\n",
       "  <tbody>\n",
       "  </tbody>\n",
       "</table>\n",
       "<p>0 rows × 31 columns</p>\n",
       "</div>"
      ],
      "text/plain": [
       "Empty DataFrame\n",
       "Columns: [outcome_x, cd, county, tract10, res_units, other_units, year_built, year_reno, buildings, floors, building_class, basement_code, owner_type, lot_area, res_sqft, comp_bbl_2017, comp_bbl_2018, comp_bbl_2019, comp_bbl_2020, comp_bbl_2021, viol_bbl_oth_2017, viol_bbl_oth_2018, viol_bbl_oth_2019, viol_bbl_oth_2020, viol_bbl_oth_2021, viol_bbl_ser_2017, viol_bbl_ser_2018, viol_bbl_ser_2019, viol_bbl_ser_2020, viol_bbl_ser_2021, outcome_y]\n",
       "Index: []\n",
       "\n",
       "[0 rows x 31 columns]"
      ]
     },
     "execution_count": 100,
     "metadata": {},
     "output_type": "execute_result"
    }
   ],
   "source": [
    "test = pd.DataFrame(y_test)\n",
    "joined_df = test.merge(df, on = \"bbl\")\n",
    "diff = joined_df.loc[~(joined_df['outcome_x'] != joined_df['outcome_y'])]\n",
    "#diff[[\"outcome_x\",\"outcome_y\"]]\n",
    "joined_df.query('outcome_x != outcome_y')"
   ]
  }
 ],
 "metadata": {
  "kernelspec": {
   "display_name": "Python 3 (ipykernel)",
   "language": "python",
   "name": "python3"
  },
  "language_info": {
   "codemirror_mode": {
    "name": "ipython",
    "version": 3
   },
   "file_extension": ".py",
   "mimetype": "text/x-python",
   "name": "python",
   "nbconvert_exporter": "python",
   "pygments_lexer": "ipython3",
   "version": "3.9.12"
  }
 },
 "nbformat": 4,
 "nbformat_minor": 5
}
