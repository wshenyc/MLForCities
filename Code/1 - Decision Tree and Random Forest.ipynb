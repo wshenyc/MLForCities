{
 "cells": [
  {
   "cell_type": "markdown",
   "id": "7ab8f6e8",
   "metadata": {},
   "source": [
    "# Decision Tree & Random Forest"
   ]
  },
  {
   "cell_type": "code",
   "execution_count": 10,
   "id": "c6a98938",
   "metadata": {},
   "outputs": [],
   "source": [
    "import pandas as pd\n",
    "import numpy as np\n",
    "from sklearn.tree import DecisionTreeClassifier\n",
    "from sklearn.metrics import roc_auc_score\n",
    "from sklearn.model_selection import train_test_split"
   ]
  },
  {
   "cell_type": "code",
   "execution_count": 11,
   "id": "c88404db",
   "metadata": {},
   "outputs": [],
   "source": [
    "#loading in building-level file\n",
    "\n",
    "url = 'https://raw.githubusercontent.com/wshenyc/MLForCities/main/Data/building_data_final.csv'\n",
    "df = pd.read_csv(url)"
   ]
  },
  {
   "cell_type": "code",
   "execution_count": 5,
   "id": "f050483a",
   "metadata": {},
   "outputs": [
    {
     "data": {
      "text/plain": [
       "(158185, 116)"
      ]
     },
     "execution_count": 5,
     "metadata": {},
     "output_type": "execute_result"
    }
   ],
   "source": [
    "#158,185 rows corresponding to a unique building based on Borough, Block, Lot (BBL)\n",
    "#116 columns \n",
    "df.shape"
   ]
  },
  {
   "cell_type": "code",
   "execution_count": 4,
   "id": "f872c6be",
   "metadata": {},
   "outputs": [
    {
     "data": {
      "text/plain": [
       "0.125858962607074"
      ]
     },
     "execution_count": 4,
     "metadata": {},
     "output_type": "execute_result"
    }
   ],
   "source": [
    "#of the 158,185 buildings, about 12% of buildings incurred a Class C HPD violation in 2021\n",
    "\n",
    "df['outcome'].mean()"
   ]
  },
  {
   "cell_type": "markdown",
   "id": "7388f837",
   "metadata": {},
   "source": [
    "### 1a) Decision Tree"
   ]
  },
  {
   "cell_type": "code",
   "execution_count": 12,
   "id": "3a33eb08",
   "metadata": {},
   "outputs": [
    {
     "data": {
      "text/plain": [
       "0.9549266689143627"
      ]
     },
     "execution_count": 12,
     "metadata": {},
     "output_type": "execute_result"
    }
   ],
   "source": [
    "X = df.loc[:, \"bbl\":\"building_class_Z9\"]\n",
    "y = df.loc[:, 'outcome']\n",
    "X_train, X_test, y_train, y_test = train_test_split(X, y, test_size=0.3, random_state=999)\n",
    "\n",
    "dt = DecisionTreeClassifier(max_depth=10, random_state = 99)\n",
    "dt.fit(X_train, y_train)\n",
    "y_predict = dt.predict(X_test)\n",
    "\n",
    "# accuracy is high\n",
    "accuracy= (y_predict == y_test).value_counts(normalize=True)[True]\n",
    "accuracy"
   ]
  },
  {
   "cell_type": "code",
   "execution_count": 13,
   "id": "a92a120a",
   "metadata": {},
   "outputs": [
    {
     "data": {
      "text/html": [
       "<div>\n",
       "<style scoped>\n",
       "    .dataframe tbody tr th:only-of-type {\n",
       "        vertical-align: middle;\n",
       "    }\n",
       "\n",
       "    .dataframe tbody tr th {\n",
       "        vertical-align: top;\n",
       "    }\n",
       "\n",
       "    .dataframe thead th {\n",
       "        text-align: right;\n",
       "    }\n",
       "</style>\n",
       "<table border=\"1\" class=\"dataframe\">\n",
       "  <thead>\n",
       "    <tr style=\"text-align: right;\">\n",
       "      <th></th>\n",
       "      <th>bbl</th>\n",
       "      <th>prob_vio_dt</th>\n",
       "    </tr>\n",
       "  </thead>\n",
       "  <tbody>\n",
       "    <tr>\n",
       "      <th>0</th>\n",
       "      <td>3047940001</td>\n",
       "      <td>0.060268</td>\n",
       "    </tr>\n",
       "    <tr>\n",
       "      <th>1</th>\n",
       "      <td>3047940017</td>\n",
       "      <td>0.001839</td>\n",
       "    </tr>\n",
       "    <tr>\n",
       "      <th>2</th>\n",
       "      <td>3047940078</td>\n",
       "      <td>0.001839</td>\n",
       "    </tr>\n",
       "    <tr>\n",
       "      <th>3</th>\n",
       "      <td>2032790058</td>\n",
       "      <td>0.157187</td>\n",
       "    </tr>\n",
       "    <tr>\n",
       "      <th>4</th>\n",
       "      <td>1011980126</td>\n",
       "      <td>0.011708</td>\n",
       "    </tr>\n",
       "    <tr>\n",
       "      <th>...</th>\n",
       "      <td>...</td>\n",
       "      <td>...</td>\n",
       "    </tr>\n",
       "    <tr>\n",
       "      <th>158180</th>\n",
       "      <td>1011980055</td>\n",
       "      <td>0.001839</td>\n",
       "    </tr>\n",
       "    <tr>\n",
       "      <th>158181</th>\n",
       "      <td>2039340058</td>\n",
       "      <td>0.001839</td>\n",
       "    </tr>\n",
       "    <tr>\n",
       "      <th>158182</th>\n",
       "      <td>3087140010</td>\n",
       "      <td>0.947761</td>\n",
       "    </tr>\n",
       "    <tr>\n",
       "      <th>158183</th>\n",
       "      <td>2027860012</td>\n",
       "      <td>0.800000</td>\n",
       "    </tr>\n",
       "    <tr>\n",
       "      <th>158184</th>\n",
       "      <td>4007950036</td>\n",
       "      <td>0.001839</td>\n",
       "    </tr>\n",
       "  </tbody>\n",
       "</table>\n",
       "<p>158185 rows × 2 columns</p>\n",
       "</div>"
      ],
      "text/plain": [
       "               bbl  prob_vio_dt\n",
       "0       3047940001     0.060268\n",
       "1       3047940017     0.001839\n",
       "2       3047940078     0.001839\n",
       "3       2032790058     0.157187\n",
       "4       1011980126     0.011708\n",
       "...            ...          ...\n",
       "158180  1011980055     0.001839\n",
       "158181  2039340058     0.001839\n",
       "158182  3087140010     0.947761\n",
       "158183  2027860012     0.800000\n",
       "158184  4007950036     0.001839\n",
       "\n",
       "[158185 rows x 2 columns]"
      ]
     },
     "execution_count": 13,
     "metadata": {},
     "output_type": "execute_result"
    }
   ],
   "source": [
    "pred_prob_all_bld= pd.concat([df.loc[:, [\"bbl\"]], \n",
    "                            pd.DataFrame(dt.predict_proba(df.loc[:, \"bbl\":\"building_class_Z9\"])[:, 1],\n",
    "                                        columns = [\"prob_vio_dt\"])], axis = 1)\n",
    "pred_prob_all_bld"
   ]
  },
  {
   "cell_type": "markdown",
   "id": "8a799e57",
   "metadata": {},
   "source": [
    "### 1b) Random Forests"
   ]
  },
  {
   "cell_type": "code",
   "execution_count": 14,
   "id": "df5206a2",
   "metadata": {},
   "outputs": [
    {
     "name": "stdout",
     "output_type": "stream",
     "text": [
      "0.9723532385313027\n"
     ]
    }
   ],
   "source": [
    "from sklearn.ensemble import RandomForestClassifier\n",
    "rf = RandomForestClassifier(n_estimators=30, n_jobs=-1, max_depth = 6, random_state = 99)\n",
    "rf.fit(X_train, y_train)\n",
    "pred=rf.predict_proba(X_test)[:,1]\n",
    "\n",
    "#slightly higher accuracy than decision tree\n",
    "print(roc_auc_score(y_test,pred))"
   ]
  },
  {
   "cell_type": "code",
   "execution_count": 15,
   "id": "a232418b",
   "metadata": {},
   "outputs": [
    {
     "data": {
      "text/html": [
       "<div>\n",
       "<style scoped>\n",
       "    .dataframe tbody tr th:only-of-type {\n",
       "        vertical-align: middle;\n",
       "    }\n",
       "\n",
       "    .dataframe tbody tr th {\n",
       "        vertical-align: top;\n",
       "    }\n",
       "\n",
       "    .dataframe thead th {\n",
       "        text-align: right;\n",
       "    }\n",
       "</style>\n",
       "<table border=\"1\" class=\"dataframe\">\n",
       "  <thead>\n",
       "    <tr style=\"text-align: right;\">\n",
       "      <th></th>\n",
       "      <th>bbl</th>\n",
       "      <th>prob_vio_dt</th>\n",
       "      <th>prob_vio_rf</th>\n",
       "    </tr>\n",
       "  </thead>\n",
       "  <tbody>\n",
       "    <tr>\n",
       "      <th>0</th>\n",
       "      <td>3047940001</td>\n",
       "      <td>0.060268</td>\n",
       "      <td>0.171337</td>\n",
       "    </tr>\n",
       "    <tr>\n",
       "      <th>1</th>\n",
       "      <td>3047940017</td>\n",
       "      <td>0.001839</td>\n",
       "      <td>0.009545</td>\n",
       "    </tr>\n",
       "    <tr>\n",
       "      <th>2</th>\n",
       "      <td>3047940078</td>\n",
       "      <td>0.001839</td>\n",
       "      <td>0.010462</td>\n",
       "    </tr>\n",
       "    <tr>\n",
       "      <th>3</th>\n",
       "      <td>2032790058</td>\n",
       "      <td>0.157187</td>\n",
       "      <td>0.181260</td>\n",
       "    </tr>\n",
       "    <tr>\n",
       "      <th>4</th>\n",
       "      <td>1011980126</td>\n",
       "      <td>0.011708</td>\n",
       "      <td>0.057772</td>\n",
       "    </tr>\n",
       "    <tr>\n",
       "      <th>...</th>\n",
       "      <td>...</td>\n",
       "      <td>...</td>\n",
       "      <td>...</td>\n",
       "    </tr>\n",
       "    <tr>\n",
       "      <th>158180</th>\n",
       "      <td>1011980055</td>\n",
       "      <td>0.001839</td>\n",
       "      <td>0.010103</td>\n",
       "    </tr>\n",
       "    <tr>\n",
       "      <th>158181</th>\n",
       "      <td>2039340058</td>\n",
       "      <td>0.001839</td>\n",
       "      <td>0.012765</td>\n",
       "    </tr>\n",
       "    <tr>\n",
       "      <th>158182</th>\n",
       "      <td>3087140010</td>\n",
       "      <td>0.947761</td>\n",
       "      <td>0.741642</td>\n",
       "    </tr>\n",
       "    <tr>\n",
       "      <th>158183</th>\n",
       "      <td>2027860012</td>\n",
       "      <td>0.800000</td>\n",
       "      <td>0.413464</td>\n",
       "    </tr>\n",
       "    <tr>\n",
       "      <th>158184</th>\n",
       "      <td>4007950036</td>\n",
       "      <td>0.001839</td>\n",
       "      <td>0.027796</td>\n",
       "    </tr>\n",
       "  </tbody>\n",
       "</table>\n",
       "<p>158185 rows × 3 columns</p>\n",
       "</div>"
      ],
      "text/plain": [
       "               bbl  prob_vio_dt  prob_vio_rf\n",
       "0       3047940001     0.060268     0.171337\n",
       "1       3047940017     0.001839     0.009545\n",
       "2       3047940078     0.001839     0.010462\n",
       "3       2032790058     0.157187     0.181260\n",
       "4       1011980126     0.011708     0.057772\n",
       "...            ...          ...          ...\n",
       "158180  1011980055     0.001839     0.010103\n",
       "158181  2039340058     0.001839     0.012765\n",
       "158182  3087140010     0.947761     0.741642\n",
       "158183  2027860012     0.800000     0.413464\n",
       "158184  4007950036     0.001839     0.027796\n",
       "\n",
       "[158185 rows x 3 columns]"
      ]
     },
     "execution_count": 15,
     "metadata": {},
     "output_type": "execute_result"
    }
   ],
   "source": [
    "#adding the rf probabilities\n",
    "\n",
    "pred_prob_all_bld = pd.concat([pred_prob_all_bld, \n",
    "                 pd.DataFrame(rf.predict_proba(df.loc[:, \"bbl\":\"building_class_Z9\"])[:, 1],\n",
    "                              columns = [\"prob_vio_rf\"])], axis = 1)\n",
    "\n",
    "pred_prob_all_bld"
   ]
  },
  {
   "cell_type": "code",
   "execution_count": 16,
   "id": "10b32be2",
   "metadata": {},
   "outputs": [],
   "source": [
    "#writing csv for dt and rf's probabilities \n",
    "\n",
    "pred_prob_all_bld.to_csv(\"pred_prob_dt_rf.csv\",index=False)"
   ]
  }
 ],
 "metadata": {
  "kernelspec": {
   "display_name": "Python 3 (ipykernel)",
   "language": "python",
   "name": "python3"
  },
  "language_info": {
   "codemirror_mode": {
    "name": "ipython",
    "version": 3
   },
   "file_extension": ".py",
   "mimetype": "text/x-python",
   "name": "python",
   "nbconvert_exporter": "python",
   "pygments_lexer": "ipython3",
   "version": "3.9.12"
  }
 },
 "nbformat": 4,
 "nbformat_minor": 5
}
