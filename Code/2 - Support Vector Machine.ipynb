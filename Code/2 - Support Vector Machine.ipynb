{
 "cells": [
  {
   "cell_type": "markdown",
   "id": "b4132426",
   "metadata": {},
   "source": [
    "# Support Vector Machine"
   ]
  },
  {
   "cell_type": "code",
   "execution_count": 1,
   "id": "3b208747",
   "metadata": {},
   "outputs": [],
   "source": [
    "import pandas as pd\n",
    "import numpy as np\n",
    "from sklearn import svm\n",
    "from sklearn import metrics\n",
    "from sklearn.model_selection import train_test_split\n",
    "from sklearn import preprocessing"
   ]
  },
  {
   "cell_type": "code",
   "execution_count": 42,
   "id": "b035a107",
   "metadata": {},
   "outputs": [],
   "source": [
    "#loading in building-level file & probabilities\n",
    "\n",
    "url = 'https://raw.githubusercontent.com/wshenyc/MLForCities/main/Data/building_data_final.csv'\n",
    "df = pd.read_csv(url)\n",
    "\n",
    "url_2 = 'https://raw.githubusercontent.com/wshenyc/MLForCities/main/Data/pred_prob_dt_rf_final.csv'\n",
    "df_prob = pd.read_csv(url_2)"
   ]
  },
  {
   "cell_type": "code",
   "execution_count": 3,
   "id": "67c899fd",
   "metadata": {},
   "outputs": [],
   "source": [
    "X = df.loc[:, \"bbl\":\"building_class_Z9\"]\n",
    "Y = df.loc[:, 'outcome']"
   ]
  },
  {
   "cell_type": "code",
   "execution_count": 4,
   "id": "249d5efd",
   "metadata": {},
   "outputs": [],
   "source": [
    "# Get column names first\n",
    "names = X.columns\n",
    "# Create the Scaler object\n",
    "scaler = preprocessing.StandardScaler()\n",
    "# Fit your data on the scaler object\n",
    "scaled_df = scaler.fit_transform(X)\n",
    "scaled_df = pd.DataFrame(scaled_df, columns=names) \n",
    "\n",
    "X = scaled_df"
   ]
  },
  {
   "cell_type": "code",
   "execution_count": 5,
   "id": "d1a2c358",
   "metadata": {},
   "outputs": [
    {
     "name": "stdout",
     "output_type": "stream",
     "text": [
      "Score 0.8957096892897918\n"
     ]
    }
   ],
   "source": [
    "X_train, X_test, Y_train, Y_test = train_test_split(X, Y, test_size=0.33, random_state=99)\n",
    "\n",
    "from sklearn.svm import LinearSVC\n",
    "from sklearn.calibration import CalibratedClassifierCV \n",
    "\n",
    "svm = LinearSVC(dual=False)\n",
    "clf = CalibratedClassifierCV(svm) \n",
    "clf.fit(X_train, Y_train)\n",
    "y_pred = clf.predict(X_train)\n",
    "score = clf.score(X_train, Y_train)\n",
    "print(\"Score\",score)\n"
   ]
  },
  {
   "cell_type": "code",
   "execution_count": 6,
   "id": "930a65ee",
   "metadata": {},
   "outputs": [
    {
     "name": "stdout",
     "output_type": "stream",
     "text": [
      "Out of sample, linear model successfully predicts 89.45442703344699 percent of the data\n"
     ]
    }
   ],
   "source": [
    "correct=1.0*(clf.predict(X_test)==np.asarray(Y_test)).sum()/len(Y_test)\n",
    "print(\"Out of sample, linear model successfully predicts {} percent of the data\".format((correct)*100))"
   ]
  },
  {
   "cell_type": "code",
   "execution_count": 46,
   "id": "3a43957a",
   "metadata": {},
   "outputs": [
    {
     "data": {
      "text/html": [
       "<div>\n",
       "<style scoped>\n",
       "    .dataframe tbody tr th:only-of-type {\n",
       "        vertical-align: middle;\n",
       "    }\n",
       "\n",
       "    .dataframe tbody tr th {\n",
       "        vertical-align: top;\n",
       "    }\n",
       "\n",
       "    .dataframe thead th {\n",
       "        text-align: right;\n",
       "    }\n",
       "</style>\n",
       "<table border=\"1\" class=\"dataframe\">\n",
       "  <thead>\n",
       "    <tr style=\"text-align: right;\">\n",
       "      <th></th>\n",
       "      <th>bbl</th>\n",
       "      <th>prob_vio_dt</th>\n",
       "      <th>prob_vio_rf</th>\n",
       "      <th>prob_vio_svm</th>\n",
       "    </tr>\n",
       "  </thead>\n",
       "  <tbody>\n",
       "    <tr>\n",
       "      <th>0</th>\n",
       "      <td>3047940001</td>\n",
       "      <td>0.060268</td>\n",
       "      <td>0.171337</td>\n",
       "      <td>0.087187</td>\n",
       "    </tr>\n",
       "    <tr>\n",
       "      <th>1</th>\n",
       "      <td>3047940017</td>\n",
       "      <td>0.001839</td>\n",
       "      <td>0.009545</td>\n",
       "      <td>0.077797</td>\n",
       "    </tr>\n",
       "    <tr>\n",
       "      <th>2</th>\n",
       "      <td>3047940078</td>\n",
       "      <td>0.001839</td>\n",
       "      <td>0.010462</td>\n",
       "      <td>0.100191</td>\n",
       "    </tr>\n",
       "    <tr>\n",
       "      <th>3</th>\n",
       "      <td>2032790058</td>\n",
       "      <td>0.157187</td>\n",
       "      <td>0.181260</td>\n",
       "      <td>0.108772</td>\n",
       "    </tr>\n",
       "    <tr>\n",
       "      <th>4</th>\n",
       "      <td>1011980126</td>\n",
       "      <td>0.011708</td>\n",
       "      <td>0.057772</td>\n",
       "      <td>0.091202</td>\n",
       "    </tr>\n",
       "    <tr>\n",
       "      <th>...</th>\n",
       "      <td>...</td>\n",
       "      <td>...</td>\n",
       "      <td>...</td>\n",
       "      <td>...</td>\n",
       "    </tr>\n",
       "    <tr>\n",
       "      <th>158180</th>\n",
       "      <td>1011980055</td>\n",
       "      <td>0.001839</td>\n",
       "      <td>0.010103</td>\n",
       "      <td>0.076984</td>\n",
       "    </tr>\n",
       "    <tr>\n",
       "      <th>158181</th>\n",
       "      <td>2039340058</td>\n",
       "      <td>0.001839</td>\n",
       "      <td>0.012765</td>\n",
       "      <td>0.092161</td>\n",
       "    </tr>\n",
       "    <tr>\n",
       "      <th>158182</th>\n",
       "      <td>3087140010</td>\n",
       "      <td>0.947761</td>\n",
       "      <td>0.741642</td>\n",
       "      <td>0.183677</td>\n",
       "    </tr>\n",
       "    <tr>\n",
       "      <th>158183</th>\n",
       "      <td>2027860012</td>\n",
       "      <td>0.800000</td>\n",
       "      <td>0.413464</td>\n",
       "      <td>0.187388</td>\n",
       "    </tr>\n",
       "    <tr>\n",
       "      <th>158184</th>\n",
       "      <td>4007950036</td>\n",
       "      <td>0.001839</td>\n",
       "      <td>0.027796</td>\n",
       "      <td>0.076015</td>\n",
       "    </tr>\n",
       "  </tbody>\n",
       "</table>\n",
       "<p>158185 rows × 4 columns</p>\n",
       "</div>"
      ],
      "text/plain": [
       "               bbl  prob_vio_dt  prob_vio_rf  prob_vio_svm\n",
       "0       3047940001     0.060268     0.171337      0.087187\n",
       "1       3047940017     0.001839     0.009545      0.077797\n",
       "2       3047940078     0.001839     0.010462      0.100191\n",
       "3       2032790058     0.157187     0.181260      0.108772\n",
       "4       1011980126     0.011708     0.057772      0.091202\n",
       "...            ...          ...          ...           ...\n",
       "158180  1011980055     0.001839     0.010103      0.076984\n",
       "158181  2039340058     0.001839     0.012765      0.092161\n",
       "158182  3087140010     0.947761     0.741642      0.183677\n",
       "158183  2027860012     0.800000     0.413464      0.187388\n",
       "158184  4007950036     0.001839     0.027796      0.076015\n",
       "\n",
       "[158185 rows x 4 columns]"
      ]
     },
     "execution_count": 46,
     "metadata": {},
     "output_type": "execute_result"
    }
   ],
   "source": [
    "df_prob_svm = pd.concat([df_prob, \n",
    "                 pd.DataFrame(clf.predict_proba(X.loc[:, \"bbl\":\"building_class_Z9\"])[:,1],\n",
    "                              columns = [\"prob_vio_svm\"])], axis = 1)\n",
    "\n",
    "df_prob_svm"
   ]
  },
  {
   "cell_type": "code",
   "execution_count": 47,
   "id": "2eb64f93",
   "metadata": {},
   "outputs": [],
   "source": [
    "df_prob_svm.to_csv(\"pred_prob_dt_rf_svm.csv\", index=False)"
   ]
  }
 ],
 "metadata": {
  "kernelspec": {
   "display_name": "Python 3 (ipykernel)",
   "language": "python",
   "name": "python3"
  },
  "language_info": {
   "codemirror_mode": {
    "name": "ipython",
    "version": 3
   },
   "file_extension": ".py",
   "mimetype": "text/x-python",
   "name": "python",
   "nbconvert_exporter": "python",
   "pygments_lexer": "ipython3",
   "version": "3.9.12"
  }
 },
 "nbformat": 4,
 "nbformat_minor": 5
}
